{
 "cells": [
  {
   "cell_type": "code",
   "execution_count": null,
   "id": "bb1c9dd7-8805-469e-ba29-5c8fa53ffa83",
   "metadata": {},
   "outputs": [],
   "source": [
    "import pandas as pd\n",
    "import csv\n",
    "import json\n",
    "\n",
    "# Caricamento del file JSON\n",
    "path_alice_map = \"../citations/alice_map.json\"  # Sostituisci con il percorso effettivo del tuo file\n",
    "df = pd.read_json(path_alice_map)\n",
    "\n",
    "# Creazione di un unico dizionario per ISBN e ISSN\n",
    "hashmap = {}\n",
    "\n",
    "for index, row in df.iterrows():\n",
    "    identifiers = []  # Lista per raccogliere gli identificatori validi\n",
    "\n",
    "    # Aggiungi ISSN se presente\n",
    "    if pd.notna(row['issn']):\n",
    "        identifiers.append(row['issn'])\n",
    "\n",
    "    # Aggiungi ISBN se presente\n",
    "    if pd.notna(row['isbn']):\n",
    "        identifiers.append(row['isbn'])\n",
    "\n",
    "    # Aggiungi il record nel dizionario per ogni identificatore trovato\n",
    "    for identifier in identifiers:\n",
    "        if identifier in hashmap:\n",
    "            hashmap[identifier].append(row.to_dict())  # Aggiungi al dizionario esistente\n",
    "        else:\n",
    "            hashmap[identifier] = [row.to_dict()]  # Crea una nuova lista per questo identificatore\n",
    "\n",
    "# Salvataggio del dizionario hashmap in un file CSV\n",
    "with open('issn_isbn.csv', 'w', newline='', encoding='utf-8') as csv_file:\n",
    "    writer = csv.writer(csv_file)\n",
    "    # Scrittura dell'intestazione\n",
    "    writer.writerow(['Identifier', 'Data'])\n",
    "\n",
    "    # Scrittura dei dati\n",
    "    for identifier, data_list in hashmap.items():\n",
    "        for data in data_list:\n",
    "            writer.writerow([identifier, json.dumps(data)])  # Converti il dizionario in stringa JSON per salvare in CSV\n"
   ]
  },
  {
   "cell_type": "code",
   "execution_count": null,
   "id": "83a189d6-fb88-47c5-ae2e-8a6f93c6243e",
   "metadata": {},
   "outputs": [
    {
     "name": "stdout",
     "output_type": "stream",
     "text": [
      "First check\n"
     ]
    }
   ],
   "source": [
    "import pandas as pd\n",
    "import os\n",
    "print(\"First check\")\n",
    "# Caricamento dei valori validi da issn_isbn.csv\n",
    "valid_df = pd.read_csv('issn_isbn.csv')\n",
    "valid_identifiers = set(valid_df['Identifier'])  # Crea un set di identificatori validi\n",
    "print(\"Second check\")\n",
    "# Cartella di input\n",
    "input_folder = '../citations/checkpoint_4_processed'\n",
    "\n",
    "# Cartella di output\n",
    "output_folder = '../citations/checkpoint_issn_isbn'\n",
    "print(\"Third check\")\n",
    "# Crea la cartella di output se non esiste\n",
    "os.makedirs(output_folder, exist_ok=True)\n",
    "print(\"Fourth check\")\n",
    "# Itera attraverso tutti i file CSV nella cartella di input\n",
    "for filename in os.listdir(input_folder):\n",
    "    if filename.endswith(\".csv\"):  # Considera solo i file CSV\n",
    "        input_file_path = os.path.join(input_folder, filename)\n",
    "        \n",
    "        # Caricamento del file CSV\n",
    "        df = pd.read_csv(input_file_path)\n",
    "        \n",
    "        # Filtraggio delle righe basato sugli identificatori validi\n",
    "        df_filtered = df[df['issn/isbn'].isin(valid_identifiers)]\n",
    "        \n",
    "        # Definisce il percorso del file di output\n",
    "        output_file_path = os.path.join(output_folder, filename)\n",
    "        \n",
    "        # Salva il file filtrato nella cartella di output\n",
    "        df_filtered.to_csv(output_file_path, index=False)\n",
    "print(\"Finished\")"
   ]
  }
 ],
 "metadata": {
  "kernelspec": {
   "display_name": "Python 3 (ipykernel)",
   "language": "python",
   "name": "python3"
  },
  "language_info": {
   "codemirror_mode": {
    "name": "ipython",
    "version": 3
   },
   "file_extension": ".py",
   "mimetype": "text/x-python",
   "name": "python",
   "nbconvert_exporter": "python",
   "pygments_lexer": "ipython3",
   "version": "3.9.13"
  },
  "widgets": {
   "application/vnd.jupyter.widget-state+json": {
    "state": {},
    "version_major": 2,
    "version_minor": 0
   }
  }
 },
 "nbformat": 4,
 "nbformat_minor": 5
}

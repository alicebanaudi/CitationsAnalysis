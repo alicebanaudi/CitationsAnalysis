{
 "cells": [
  {
   "cell_type": "markdown",
   "id": "6b34d500-84a7-41d4-a0ab-eec5d53f3d9d",
   "metadata": {},
   "source": [
    "### Checkpoint 1: Elimino le colonne non necessarie: tutte tranne id, title, author, venue e pub_date "
   ]
  },
  {
   "cell_type": "code",
   "execution_count": 3,
   "id": "0f091471-f542-42cd-93f7-a16862d128cc",
   "metadata": {},
   "outputs": [],
   "source": [
    "import os\n",
    "import pandas as pd\n",
    "\n",
    "# Define the source folder path\n",
    "source_folder_path = '../citations/update_metadata'\n",
    "# Define the destination folder path\n",
    "destination_folder_path = '../citations/checkpoint_1'\n",
    "\n",
    "# Create the destination folder if it doesn't exist\n",
    "os.makedirs(destination_folder_path, exist_ok=True)"
   ]
  },
  {
   "cell_type": "code",
   "execution_count": 4,
   "id": "fbd75118-1024-43c2-b3c7-07d674ed05bd",
   "metadata": {},
   "outputs": [
    {
     "name": "stdout",
     "output_type": "stream",
     "text": [
      "Processo di pulizia completato e file salvati nella cartella \"checkpoint_1\".\n"
     ]
    }
   ],
   "source": [
    "# Loop through each file in the source folder\n",
    "for file_name in os.listdir(source_folder_path):\n",
    "    if file_name.endswith(\".csv\"):  # Assicurati che sia un file CSV\n",
    "        source_file_path = os.path.join(source_folder_path, file_name)\n",
    "        \n",
    "        # Read the dataset into a DataFrame\n",
    "        df = pd.read_csv(source_file_path)\n",
    "        \n",
    "        # Keep only the columns necessary\n",
    "        columns_to_keep = ['id', 'title', 'author', 'venue', 'pub_date']\n",
    "        df = df.dropna(subset=columns_to_keep)  # Rimuovi le righe con valori nulli in queste colonne\n",
    "        df = df[columns_to_keep]  # Rimuovi tutte le altre colonne non elencate\n",
    "        \n",
    "        #  Define the destination file path\n",
    "        destination_file_path = os.path.join(destination_folder_path, file_name)\n",
    "        \n",
    "        # Save the cleaned DataFrame to the new folder\n",
    "        df.to_csv(destination_file_path, index=False)\n",
    "\n",
    "print('Processo di pulizia completato e file salvati nella cartella \"checkpoint_1\".')"
   ]
  },
  {
   "cell_type": "markdown",
   "id": "7a105dfa-0632-49ac-9694-1c20407050e9",
   "metadata": {},
   "source": [
    "### Checkpoint 2: elimino le righe in cui compaiono valori nulli in id, title, author, venue o pub_date"
   ]
  },
  {
   "cell_type": "code",
   "execution_count": 5,
   "id": "b72fc418-bbe4-40f1-ba67-1eaed993a957",
   "metadata": {},
   "outputs": [],
   "source": [
    "import os\n",
    "import pandas as pd\n",
    "\n",
    "# Define the source folder path\n",
    "source_folder_path = '../citations/checkpoint_1'\n",
    "# Define the destination folder path\n",
    "destination_folder_path = '../citations/checkpoint_2'\n",
    "\n",
    "# Create the destination folder if it doesn't exist\n",
    "os.makedirs(destination_folder_path, exist_ok=True)"
   ]
  },
  {
   "cell_type": "code",
   "execution_count": 6,
   "id": "b3c046eb-5fca-407a-8895-df854eaf35d1",
   "metadata": {},
   "outputs": [
    {
     "name": "stdout",
     "output_type": "stream",
     "text": [
      "Cleaning process completed and files saved in \"checkpoint_2\" folder.\n"
     ]
    }
   ],
   "source": [
    "# Loop through each file in the source folder\n",
    "for file_name in os.listdir(source_folder_path):\n",
    "    source_file_path = os.path.join(source_folder_path, file_name)\n",
    "    \n",
    "    # Read the dataset into a DataFrame\n",
    "    df = pd.read_csv(source_file_path)\n",
    "    \n",
    "    # Drop rows where any of the specified columns have null values\n",
    "    df.dropna(subset=['id', 'title', 'author', 'venue', 'pub_date'], inplace=True)\n",
    "    \n",
    "    # Define the destination file path\n",
    "    destination_file_path = os.path.join(destination_folder_path, file_name)\n",
    "    \n",
    "    # Save the cleaned DataFrame to the new folder\n",
    "    df.to_csv(destination_file_path, index=False)\n",
    "\n",
    "print('Cleaning process completed and files saved in \"checkpoint_2\" folder.')"
   ]
  },
  {
   "cell_type": "markdown",
   "id": "2ec5cc53-bd5a-4f31-92b9-7b4fcbb6b24f",
   "metadata": {},
   "source": [
    "### Checkpoint 2.5: Elimino csv vuoti"
   ]
  },
  {
   "cell_type": "code",
   "execution_count": 12,
   "id": "9add99e7-1ba6-4294-bae3-8cea400045e6",
   "metadata": {},
   "outputs": [
    {
     "name": "stdout",
     "output_type": "stream",
     "text": [
      "Process completed. Empty datasets have been removed.\n"
     ]
    }
   ],
   "source": [
    "import os\n",
    "import pandas as pd\n",
    "\n",
    "# Definisci il percorso della cartella da controllare\n",
    "folder_path = '../citations/checkpoint_2'\n",
    "\n",
    "# Loop attraverso ogni file nella cartella specificata\n",
    "for file_name in os.listdir(folder_path):\n",
    "    if file_name.endswith(\".csv\"):  # Assicurati che sia un file CSV\n",
    "        file_path = os.path.join(folder_path, file_name)\n",
    "        \n",
    "        # Leggi il dataset in un DataFrame per verificare se è vuoto\n",
    "        df = pd.read_csv(file_path)\n",
    "        \n",
    "        # Se il DataFrame è vuoto (nessuna riga), elimina il file\n",
    "        if df.empty:\n",
    "            os.remove(file_path)\n",
    "            \n",
    "\n",
    "print('Process completed. Empty datasets have been removed.')\n"
   ]
  },
  {
   "cell_type": "markdown",
   "id": "d57d4098-f1be-4ff5-b8af-b0eeec2b583d",
   "metadata": {},
   "source": [
    "### Checkpoint 3: Elimino righe in cui compaiono caratteri cinesi, giapponesi, ideogrammi in generale"
   ]
  },
  {
   "cell_type": "code",
   "execution_count": 1,
   "id": "8367de7f-ab75-4615-a4b6-66ddae6f5a2e",
   "metadata": {},
   "outputs": [],
   "source": [
    "import os\n",
    "import pandas as pd\n",
    "import re\n",
    "\n",
    "# Define the source and destination folder paths\n",
    "source_folder_path = '../citations/checkpoint_2'\n",
    "destination_folder_path = '../citations/checkpoint_3'\n",
    "\n",
    "# Create the destination folder if it doesn't exist\n",
    "os.makedirs(destination_folder_path, exist_ok=True)\n",
    "\n",
    "# Regular expression to match Chinese, Japanese, or other ideographs\n",
    "ideograph_regex = r'[\\u2E80-\\u2EFF\\u2F00-\\u2FDF\\u3000-\\u303F\\u3040-\\u309F\\u30A0-\\u30FF\\u3100-\\u312F\\u3200-\\u32FF\\u3400-\\u4DBF\\u4E00-\\u9FFF\\uF900-\\uFAFF]'\n",
    "\n",
    "# Function to check if a string contains ideographic characters\n",
    "def contains_ideograph(text):\n",
    "    if pd.isnull(text):\n",
    "        return False\n",
    "    # Explicitly convert the text to a string before the search\n",
    "    return re.search(ideograph_regex, str(text)) is not None"
   ]
  },
  {
   "cell_type": "code",
   "execution_count": 2,
   "id": "87c56760-138b-49bf-96b4-9fef2a58d1cf",
   "metadata": {},
   "outputs": [
    {
     "name": "stdout",
     "output_type": "stream",
     "text": [
      "Cleaning process completed and files saved in \"checkpoint_3\" folder. Empty datasets were not saved.\n"
     ]
    }
   ],
   "source": [
    "# Loop through each file in the source folder\n",
    "for file_name in os.listdir(source_folder_path):\n",
    "    if file_name.endswith(\".csv\"):  # Ensure the file is a CSV\n",
    "        source_file_path = os.path.join(source_folder_path, file_name)\n",
    "        \n",
    "        # Read the dataset into a DataFrame\n",
    "        df = pd.read_csv(source_file_path)\n",
    "        \n",
    "        # Verify and keep only the existing necessary columns\n",
    "        columns_to_keep = ['id', 'title', 'author', 'venue', 'pub_date']\n",
    "        existing_columns_to_keep = [col for col in columns_to_keep if col in df.columns]\n",
    "        \n",
    "        # Remove rows with null values in these existing columns\n",
    "        df = df.dropna(subset=existing_columns_to_keep)\n",
    "        \n",
    "        # Keep only the columns that exist\n",
    "        df = df[existing_columns_to_keep]\n",
    "        \n",
    "        # Remove rows containing ideographic characters only from existing columns\n",
    "        for column in existing_columns_to_keep:\n",
    "            if column in df.columns:  # Additional check before applying contains_ideograph\n",
    "                df = df[~df[column].apply(contains_ideograph)]\n",
    "        \n",
    "        # Check if the DataFrame is empty after cleaning\n",
    "        if not df.empty:\n",
    "            # Define the destination file path\n",
    "            destination_file_path = os.path.join(destination_folder_path, file_name)\n",
    "            \n",
    "            # Save the cleaned DataFrame to the new folder\n",
    "            df.to_csv(destination_file_path, index=False)\n",
    " \n",
    "\n",
    "print('Cleaning process completed and files saved in \"checkpoint_3\" folder. Empty datasets were not saved.')\n"
   ]
  },
  {
   "cell_type": "code",
   "execution_count": 10,
   "id": "cf1045a7-99a7-4ba5-9064-b56bca934635",
   "metadata": {},
   "outputs": [],
   "source": [
    "### Checkpoint 3.5: Elimino csv vuoti"
   ]
  },
  {
   "cell_type": "code",
   "execution_count": 9,
   "id": "2639dd10-c8b1-41fe-b0fa-33a2e6ef1c7f",
   "metadata": {},
   "outputs": [
    {
     "name": "stdout",
     "output_type": "stream",
     "text": [
      "Process completed. 22 empty datasets have been removed from checkpoint_3.\n"
     ]
    }
   ],
   "source": [
    "import os\n",
    "import pandas as pd\n",
    "\n",
    "# Definisci il percorso della cartella da controllare\n",
    "folder_path = '../citations/checkpoint_3'\n",
    "deleted_files = 0  # Contatore per i file eliminati\n",
    "\n",
    "# Loop attraverso ogni file nella cartella specificata\n",
    "for file_name in os.listdir(folder_path):\n",
    "    if file_name.endswith(\".csv\"):  # Assicurati che sia un file CSV\n",
    "        file_path = os.path.join(folder_path, file_name)\n",
    "        \n",
    "        try:\n",
    "            # Leggi il dataset in un DataFrame per verificare se è vuoto\n",
    "            df = pd.read_csv(file_path)\n",
    "            \n",
    "            # Se il DataFrame è vuoto (nessuna riga), elimina il file\n",
    "            if df.empty:\n",
    "                os.remove(file_path)\n",
    "                print(f\"Removed empty dataset: {file_name}\")\n",
    "                deleted_files += 1  # Incrementa il contatore\n",
    "                \n",
    "        except pd.errors.EmptyDataError:\n",
    "            # Se il file è completamente vuoto, viene catturata questa eccezione\n",
    "            os.remove(file_path)\n",
    "            deleted_files += 1  # Incrementa il contatore\n",
    "\n",
    "# Nota la modifica nella stringa di formattazione finale\n",
    "print(f'Process completed. {deleted_files} empty datasets have been removed from checkpoint_3.')\n"
   ]
  },
  {
   "cell_type": "markdown",
   "id": "4f592c1d-4407-48d5-849b-3d80b10f9574",
   "metadata": {},
   "source": [
    "### Checkpoint 4: \"Espando\" le righe in modo che ogni autore abbia la propria riga mantenendo le informazioni originali delle altre colonne (come l'ID, il titolo, ecc.) invariate. (\"unpivoting\" o \"melting\" dei dati)"
   ]
  },
  {
   "cell_type": "code",
   "execution_count": 1,
   "id": "eb9ed427-9675-4fe0-9cbf-2cceb8cb00cc",
   "metadata": {},
   "outputs": [],
   "source": [
    "import os\n",
    "import pandas as pd\n",
    "\n",
    "# Definisci i percorsi delle cartelle sorgente e destinazione\n",
    "source_folder_path = '../citations/checkpoint_3'\n",
    "destination_folder_path = '../citations/checkpoint_4'\n",
    "\n",
    "# Crea la cartella di destinazione se non esiste\n",
    "os.makedirs(destination_folder_path, exist_ok=True)"
   ]
  },
  {
   "cell_type": "code",
   "execution_count": null,
   "id": "807eaf6c-9be8-476b-9453-c3ec91406ad2",
   "metadata": {},
   "outputs": [],
   "source": [
    "# Loop attraverso ogni file nella cartella sorgente\n",
    "for file_name in os.listdir(source_folder_path):\n",
    "    if file_name.endswith(\".csv\"):  # Assicurati che sia un file CSV\n",
    "        source_file_path = os.path.join(source_folder_path, file_name)\n",
    "        \n",
    "        # Leggi il dataset in un DataFrame\n",
    "        df = pd.read_csv(source_file_path)\n",
    "        \n",
    "        # Mantieni solo le colonne necessarie e rimuovi righe con valori nulli\n",
    "        columns_to_keep = ['id', 'title', 'author', 'venue', 'pub_date']\n",
    "        df = df.dropna(subset=columns_to_keep)[columns_to_keep]\n",
    "        \n",
    "        # Espandi la colonna \"author\" per avere una riga per ogni autore\n",
    "        # Converti la colonna \"author\" in una lista di autori, separati da \";\"\n",
    "        df['author'] = df['author'].str.split('; ')\n",
    "        # Espandi la lista degli autori in righe separate\n",
    "        df = df.explode('author').reset_index(drop=True)\n",
    "        \n",
    "        # Rimuovi righe contenenti caratteri ideografici, se necessario\n",
    "        # (Qui puoi inserire il codice per filtrare i caratteri ideografici, se richiesto)\n",
    "\n",
    "        # Definisci il percorso del file di destinazione\n",
    "        destination_file_path = os.path.join(destination_folder_path, file_name)\n",
    "        \n",
    "        # Salva il DataFrame pulito nella nuova cartella\n",
    "        df.to_csv(destination_file_path, index=False)\n",
    "\n",
    "print('Processo di pulizia completato e file salvati nella cartella \"checkpoint_4\".')"
   ]
  },
  {
   "cell_type": "code",
   "execution_count": 1,
   "id": "f14ab9ba-3323-4ab0-a5bd-20f22d8865ca",
   "metadata": {},
   "outputs": [
    {
     "name": "stdout",
     "output_type": "stream",
     "text": [
      "Numero di file .csv in checkpoint_3: 27136\n",
      "Numero di file .csv in checkpoint_4: 27136\n",
      "Il numero di file in checkpoint_3 e checkpoint_4 è uguale.\n"
     ]
    }
   ],
   "source": [
    "import os\n",
    "\n",
    "# Definisci i percorsi delle cartelle da controllare\n",
    "folder_path_checkpoint_3 = '../citations/checkpoint_3'\n",
    "folder_path_checkpoint_4 = '../citations/checkpoint_4'\n",
    "\n",
    "# Inizializza i contatori\n",
    "count_checkpoint_3 = 0\n",
    "count_checkpoint_4 = 0\n",
    "\n",
    "# Conta i file in checkpoint_3\n",
    "for file_name in os.listdir(folder_path_checkpoint_3):\n",
    "    if file_name.endswith(\".csv\"):\n",
    "        count_checkpoint_3 += 1\n",
    "\n",
    "# Conta i file in checkpoint_4\n",
    "for file_name in os.listdir(folder_path_checkpoint_4):\n",
    "    if file_name.endswith(\".csv\"):\n",
    "        count_checkpoint_4 += 1\n",
    "\n",
    "# Stampa il numero di file in ciascuna cartella e il confronto\n",
    "print(f\"Numero di file .csv in checkpoint_3: {count_checkpoint_3}\")\n",
    "print(f\"Numero di file .csv in checkpoint_4: {count_checkpoint_4}\")\n",
    "\n",
    "if count_checkpoint_3 > count_checkpoint_4:\n",
    "    print(\"Ci sono più file in checkpoint_3 rispetto a checkpoint_4.\")\n",
    "elif count_checkpoint_3 < count_checkpoint_4:\n",
    "    print(\"Ci sono più file in checkpoint_4 rispetto a checkpoint_3.\")\n",
    "else:\n",
    "    print(\"Il numero di file in checkpoint_3 e checkpoint_4 è uguale.\")\n"
   ]
  },
  {
   "cell_type": "markdown",
   "id": "fbeffd3b-66d8-48a0-818b-c94320351907",
   "metadata": {},
   "source": [
    "### Checkpoint 4 _processed: Estraggo gli identificatori ISSN e ISBN dalla colonna “venue”, creo un nuovo field “issn/isbn” e “espando” le righe in modo che ogni riga abbia associato un valore di issn o di isbn."
   ]
  },
  {
   "cell_type": "code",
   "execution_count": null,
   "id": "5df3f33f-55fa-4078-8fc8-248894fd29a5",
   "metadata": {},
   "outputs": [],
   "source": [
    "import pandas as pd\n",
    "import os\n",
    "import re\n",
    "\n",
    "# Impostazioni percorso\n",
    "folder_path = '/path/to/checkpoint_4'  # Assicurati che sia il percorso corretto\n",
    "output_folder = '/path/to/checkpoint_4_processed'  # Nuova cartella per i file elaborati\n",
    "\n",
    "# Crea la cartella di output se non esiste\n",
    "os.makedirs(output_folder, exist_ok=True)\n",
    "\n",
    "# Regex per estrarre ISSN e ISBN\n",
    "issn_isbn_pattern = re.compile(r'issn:\\s*(\\d{4}-\\d{3}[0-9Xx])|isbn:\\s*(\\d{13})')\n",
    "\n",
    "# Funzione per elaborare ciascun file\n",
    "def process_file(file_path, output_path):\n",
    "    df = pd.read_csv(file_path)\n",
    "\n",
    "    if 'venue' in df.columns:\n",
    "        # Estrai e espandi ISSN e ISBN\n",
    "        df['issn/isbn'] = df['venue'].apply(lambda x: issn_isbn_pattern.findall(str(x)) if pd.notna(x) else [])\n",
    "        df = df.explode('issn/isbn')\n",
    "        df['issn/isbn'] = df['issn/isbn'].apply(lambda x: x[0] if isinstance(x, tuple) and x[0] else x[1] if isinstance(x, tuple) and len(x) > 1 else None)\n",
    "        \n",
    "        # Salva il DataFrame modificato\n",
    "        df.to_csv(output_path, index=False)\n",
    "        print(f\"Processed and saved: {output_path}\")\n",
    "    else:\n",
    "        print(f\"No 'venue' column in {file_path}\")\n",
    "\n",
    "# Processa ogni file nella cartella\n",
    "for filename in os.listdir(folder_path):\n",
    "    if filename.endswith('.csv'):\n",
    "        file_path = os.path.join(folder_path, filename)\n",
    "        output_path = os.path.join(output_folder, filename)\n",
    "        process_file(file_path, output_path)\n"
   ]
  }
 ],
 "metadata": {
  "kernelspec": {
   "display_name": "Python 3 (ipykernel)",
   "language": "python",
   "name": "python3"
  },
  "language_info": {
   "codemirror_mode": {
    "name": "ipython",
    "version": 3
   },
   "file_extension": ".py",
   "mimetype": "text/x-python",
   "name": "python",
   "nbconvert_exporter": "python",
   "pygments_lexer": "ipython3",
   "version": "3.9.13"
  },
  "widgets": {
   "application/vnd.jupyter.widget-state+json": {
    "state": {},
    "version_major": 2,
    "version_minor": 0
   }
  }
 },
 "nbformat": 4,
 "nbformat_minor": 5
}
